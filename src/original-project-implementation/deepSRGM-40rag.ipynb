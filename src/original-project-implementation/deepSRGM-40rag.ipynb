{
 "cells": [
  {
   "cell_type": "markdown",
   "metadata": {
    "colab": {
     "base_uri": "https://localhost:8080/"
    },
    "id": "6My7bxkUNBA0",
    "outputId": "f6ca1cdb-93d5-4777-b7d7-78f3609f2f22"
   },
   "source": [
    "# Trial with full 40-rag Dataset"
   ]
  },
  {
   "cell_type": "code",
   "execution_count": 1,
   "metadata": {},
   "outputs": [
    {
     "name": "stdout",
     "output_type": "stream",
     "text": [
      "/home/teamdaedulus\n"
     ]
    }
   ],
   "source": [
    "%cd /home/teamdaedulus/"
   ]
  },
  {
   "cell_type": "code",
   "execution_count": 1,
   "metadata": {
    "id": "IHqzijIt1KkP"
   },
   "outputs": [],
   "source": [
    "import torch\n",
    "import torch.nn as nn\n",
    "import torch.nn.functional as F\n",
    "from torch.optim import Adam\n",
    "import torchvision\n",
    "import torchvision.transforms as transforms\n",
    "import numpy as np\n",
    "import matplotlib.pyplot as plt"
   ]
  },
  {
   "cell_type": "code",
   "execution_count": 2,
   "metadata": {
    "id": "bPeWSOzV1w5F"
   },
   "outputs": [],
   "source": [
    "# \n",
    "# input_size = 128\n",
    "# hidden_size = 768\n",
    "# num_layers = 1\n",
    "# num_classes = 40\n"
   ]
  },
  {
   "cell_type": "code",
   "execution_count": 4,
   "metadata": {
    "id": "JQ07tRnXNdJe"
   },
   "outputs": [
    {
     "name": "stdout",
     "output_type": "stream",
     "text": [
      "Training data: X - torch.Size([72000, 5000]), Y - torch.Size([72000])\n"
     ]
    }
   ],
   "source": [
    "X_train = torch.from_numpy(np.load(\"data/X_train40.npy\")).long()\n",
    "Y_train = torch.from_numpy(np.load(\"data/Y_train40.npy\")).long()\n",
    "print(f\"Training data: X - {X_train.shape}, Y - {Y_train.shape}\")"
   ]
  },
  {
   "cell_type": "code",
   "execution_count": 5,
   "metadata": {
    "colab": {
     "base_uri": "https://localhost:8080/"
    },
    "id": "lzndq-fYCGg4",
    "outputId": "3f0b7576-3cf1-4e5a-a3ec-b22b601cf0ce"
   },
   "outputs": [
    {
     "data": {
      "text/plain": [
       "device(type='cuda')"
      ]
     },
     "execution_count": 5,
     "metadata": {},
     "output_type": "execute_result"
    }
   ],
   "source": [
    "device = torch.device(\"cuda\") if torch.cuda.is_available() else torch.device(\"cpu\")\n",
    "torch.cuda.set_device(1)\n",
    "device"
   ]
  },
  {
   "cell_type": "code",
   "execution_count": 3,
   "metadata": {
    "id": "Ww3lJELsH-9J"
   },
   "outputs": [],
   "source": [
    "torch.cuda.empty_cache()"
   ]
  },
  {
   "cell_type": "code",
   "execution_count": 4,
   "metadata": {
    "id": "EC1B-F1x6O8w"
   },
   "outputs": [],
   "source": [
    "# Code inspired from the following blog post\n",
    "# https://towardsdatascience.com/nlp-learning-series-part-3-attention-cnn-and-what-not-for-text-classification-4313930ed566\n",
    "class Attention(nn.Module):\n",
    "    def __init__(self, feature_dim, step_dim, bias=True, **kwargs):\n",
    "        super(Attention, self).__init__(**kwargs)        \n",
    "        self.supports_masking = True\n",
    "        \n",
    "        self.bias = bias\n",
    "        self.feature_dim = feature_dim\n",
    "        self.step_dim = step_dim\n",
    "        self.features_dim = 0\n",
    "        \n",
    "        weight = torch.zeros(feature_dim, 1)\n",
    "        nn.init.kaiming_uniform_(weight)\n",
    "        self.weight = nn.Parameter(weight)\n",
    "        \n",
    "        if bias:\n",
    "            self.b = nn.Parameter(torch.zeros(step_dim))\n",
    "        \n",
    "    def forward(self, x, mask=None):\n",
    "        feature_dim = self.feature_dim \n",
    "        step_dim = self.step_dim\n",
    "\n",
    "        eij = torch.mm(\n",
    "            x.contiguous().view(-1, feature_dim), \n",
    "            self.weight\n",
    "        ).view(-1, step_dim)\n",
    "        \n",
    "        if self.bias:\n",
    "            eij = eij + self.b\n",
    "            \n",
    "        eij = torch.tanh(eij)\n",
    "        a = torch.exp(eij)\n",
    "        \n",
    "        if mask is not None:\n",
    "            a = a * mask\n",
    "\n",
    "        a = a / (torch.sum(a, 1, keepdim=True) + 1e-10)\n",
    "\n",
    "        weighted_input = x * torch.unsqueeze(a, -1)\n",
    "        return torch.sum(weighted_input, 1)"
   ]
  },
  {
   "cell_type": "code",
   "execution_count": 5,
   "metadata": {
    "id": "7YiE6NGXnQe4"
   },
   "outputs": [],
   "source": [
    "class Model(nn.Module):\n",
    "    def __init__(self, input_length=5000, embedding_size=128, hidden_size=768,\n",
    "                num_layers=1, num_classes=40, vocab_size=209, drop_prob=0.5):\n",
    "      super(Model, self).__init__()\n",
    "      self.num_layers = num_layers\n",
    "      self.hidden_size = hidden_size\n",
    "      self.fc1 = nn.Linear(hidden_size, 384)\n",
    "      self.fc2 = nn.Linear(384, num_classes)\n",
    "      # self.batchNorm1d = nn.BatchNorm1d(input_length)\n",
    "      self.dropout = nn.Dropout(0.3)\n",
    "      self.lstm = nn.LSTM(embedding_size, hidden_size, num_layers,\n",
    "                          dropout=drop_prob, batch_first=True)\n",
    "      self.embeddings = nn.Embedding(vocab_size, embedding_size)\n",
    "      self.attention_layer = Attention(hidden_size, input_length)\n",
    "      self.relu = nn.ReLU()\n",
    "\n",
    "    def forward(self, x):\n",
    "      batch_size = x.size(0)\n",
    "      embeds = self.embeddings(x)\n",
    "      # print(\"embeds \", embeds.shape)\n",
    "      h0 = torch.zeros(self.num_layers, x.size(0), self.hidden_size).to(device)\n",
    "      c0 = torch.zeros(self.num_layers, x.size(0), self.hidden_size).to(device)\n",
    "      out, _ = self.lstm(embeds, (h0, c0)) #We don't need the hidden tensor\n",
    "      # print(\"lstm \", out.shape)\n",
    "      # out = self.batchNorm1d(out)\n",
    "      out = self.attention_layer(out)\n",
    "      # print(\"attention \", out.shape)\n",
    "     \n",
    "      out = self.relu(self.fc1(out))\n",
    "      # print(\"fc1 \", out.shape)\n",
    "      out = self.dropout(out)\n",
    "      out = self.fc2(out)\n",
    "      # print(\"output \", out.shape)\n",
    "\n",
    "      return out"
   ]
  },
  {
   "cell_type": "code",
   "execution_count": 9,
   "metadata": {
    "colab": {
     "base_uri": "https://localhost:8080/"
    },
    "id": "oAUsE7T33CDm",
    "outputId": "fda32be9-00d8-4496-8627-327f4e3b518e"
   },
   "outputs": [
    {
     "name": "stderr",
     "output_type": "stream",
     "text": [
      "/opt/anaconda3/envs/pipenv/lib/python3.7/site-packages/torch/nn/modules/rnn.py:50: UserWarning: dropout option adds dropout after all but last recurrent layer, so non-zero dropout expects num_layers greater than 1, but got dropout=0.5 and num_layers=1\n",
      "  \"num_layers={}\".format(dropout, num_layers))\n"
     ]
    },
    {
     "data": {
      "text/plain": [
       "<All keys matched successfully>"
      ]
     },
     "execution_count": 9,
     "metadata": {},
     "output_type": "execute_result"
    }
   ],
   "source": [
    "model = Model().to(device)\n",
    "# transfer weights of the 10rag dataset model\n",
    "pretrained_dict = torch.load(\"lstm_30_model.pth\")\n",
    "model_dict = model.state_dict()\n",
    "\n",
    "# 1. filter out unnecessary keys\n",
    "pretrained_dict = {k: v for k, v in pretrained_dict.items() if k not in ['fc2.bias', 'fc2.weight']}\n",
    "# 2. overwrite entries in the existing state dict\n",
    "model_dict.update(pretrained_dict) \n",
    "# 3. load the new state dict\n",
    "model.load_state_dict(model_dict)"
   ]
  },
  {
   "cell_type": "code",
   "execution_count": 10,
   "metadata": {},
   "outputs": [
    {
     "data": {
      "text/plain": [
       "<All keys matched successfully>"
      ]
     },
     "execution_count": 10,
     "metadata": {},
     "output_type": "execute_result"
    }
   ],
   "source": [
    "# Reloading saved model\n",
    "\n",
    "model = Model().to(device)\n",
    "model.load_state_dict(torch.load(\"models40/lstm_25_checkpoint.pth\"))"
   ]
  },
  {
   "cell_type": "code",
   "execution_count": 10,
   "metadata": {
    "id": "bgwx3dIsOuLD"
   },
   "outputs": [],
   "source": [
    "from torch.utils.data import TensorDataset, DataLoader\n",
    "\n",
    "batch_size = 40\n",
    "trainset = TensorDataset(X_train, Y_train)\n",
    "trainloader = DataLoader(trainset, shuffle=True, batch_size=batch_size)"
   ]
  },
  {
   "cell_type": "code",
   "execution_count": 11,
   "metadata": {
    "id": "vu0go4vnahLJ"
   },
   "outputs": [],
   "source": [
    "criterion = nn.CrossEntropyLoss()\n",
    "# optimizer = optim.SGD(net.parameters(), lr=0.001, momentum=0.9)\n",
    "optimizer = Adam(model.parameters(), lr=0.0001)"
   ]
  },
  {
   "cell_type": "code",
   "execution_count": 12,
   "metadata": {},
   "outputs": [
    {
     "data": {
      "text/plain": [
       "1800"
      ]
     },
     "execution_count": 12,
     "metadata": {},
     "output_type": "execute_result"
    }
   ],
   "source": [
    "len(trainloader)"
   ]
  },
  {
   "cell_type": "code",
   "execution_count": null,
   "metadata": {
    "colab": {
     "base_uri": "https://localhost:8080/",
     "height": 357
    },
    "id": "phtGZ0DrcaRW",
    "outputId": "642774c3-d830-4a36-8e81-88505c47a0c8"
   },
   "outputs": [
    {
     "name": "stdout",
     "output_type": "stream",
     "text": [
      "Epoch: 1 | Batches Done: 100/1800 | Loss: 3.416\n",
      "Epoch: 1 | Batches Done: 200/1800 | Loss: 2.779\n",
      "Epoch: 1 | Batches Done: 300/1800 | Loss: 2.425\n",
      "Epoch: 1 | Batches Done: 400/1800 | Loss: 2.208\n",
      "Epoch: 1 | Batches Done: 500/1800 | Loss: 2.200\n",
      "Epoch: 1 | Batches Done: 600/1800 | Loss: 2.010\n",
      "Epoch: 1 | Batches Done: 700/1800 | Loss: 1.915\n",
      "Epoch: 1 | Batches Done: 800/1800 | Loss: 1.785\n",
      "Epoch: 1 | Batches Done: 900/1800 | Loss: 1.823\n",
      "Epoch: 1 | Batches Done: 1000/1800 | Loss: 1.735\n",
      "Epoch: 1 | Batches Done: 1100/1800 | Loss: 1.636\n",
      "Epoch: 1 | Batches Done: 1200/1800 | Loss: 1.583\n",
      "Epoch: 1 | Batches Done: 1300/1800 | Loss: 1.515\n",
      "Epoch: 1 | Batches Done: 1400/1800 | Loss: 1.529\n",
      "Epoch: 1 | Batches Done: 1500/1800 | Loss: 1.603\n",
      "Epoch: 1 | Batches Done: 1600/1800 | Loss: 1.459\n",
      "Epoch: 1 | Batches Done: 1700/1800 | Loss: 1.428\n",
      "Epoch: 1 | Batches Done: 1800/1800 | Loss: 1.436\n",
      "==================================================\n",
      "EPOCH 1 OVERALL LOSS: 1.916\n",
      "==================================================\n",
      "Epoch: 2 | Batches Done: 100/1800 | Loss: 1.380\n",
      "Epoch: 2 | Batches Done: 200/1800 | Loss: 1.328\n",
      "Epoch: 2 | Batches Done: 300/1800 | Loss: 1.347\n",
      "Epoch: 2 | Batches Done: 400/1800 | Loss: 1.384\n",
      "Epoch: 2 | Batches Done: 500/1800 | Loss: 1.338\n",
      "Epoch: 2 | Batches Done: 600/1800 | Loss: 1.304\n",
      "Epoch: 2 | Batches Done: 700/1800 | Loss: 1.313\n",
      "Epoch: 2 | Batches Done: 800/1800 | Loss: 1.379\n",
      "Epoch: 2 | Batches Done: 900/1800 | Loss: 1.338\n",
      "Epoch: 2 | Batches Done: 1000/1800 | Loss: 1.293\n",
      "Epoch: 2 | Batches Done: 1100/1800 | Loss: 1.207\n",
      "Epoch: 2 | Batches Done: 1200/1800 | Loss: 1.278\n",
      "Epoch: 2 | Batches Done: 1300/1800 | Loss: 1.245\n",
      "Epoch: 2 | Batches Done: 1400/1800 | Loss: 1.190\n",
      "Epoch: 2 | Batches Done: 1500/1800 | Loss: 1.140\n",
      "Epoch: 2 | Batches Done: 1600/1800 | Loss: 1.128\n",
      "Epoch: 2 | Batches Done: 1700/1800 | Loss: 1.148\n",
      "Epoch: 2 | Batches Done: 1800/1800 | Loss: 1.122\n",
      "==================================================\n",
      "EPOCH 2 OVERALL LOSS: 1.270\n",
      "==================================================\n",
      "Epoch: 3 | Batches Done: 100/1800 | Loss: 1.216\n",
      "Epoch: 3 | Batches Done: 200/1800 | Loss: 1.138\n",
      "Epoch: 3 | Batches Done: 300/1800 | Loss: 1.095\n",
      "Epoch: 3 | Batches Done: 400/1800 | Loss: 1.049\n",
      "Epoch: 3 | Batches Done: 500/1800 | Loss: 1.193\n",
      "Epoch: 3 | Batches Done: 600/1800 | Loss: 1.133\n",
      "Epoch: 3 | Batches Done: 700/1800 | Loss: 1.087\n",
      "Epoch: 3 | Batches Done: 800/1800 | Loss: 1.052\n",
      "Epoch: 3 | Batches Done: 900/1800 | Loss: 1.028\n",
      "Epoch: 3 | Batches Done: 1000/1800 | Loss: 1.029\n",
      "Epoch: 3 | Batches Done: 1100/1800 | Loss: 0.973\n",
      "Epoch: 3 | Batches Done: 1200/1800 | Loss: 0.970\n",
      "Epoch: 3 | Batches Done: 1300/1800 | Loss: 1.021\n",
      "Epoch: 3 | Batches Done: 1400/1800 | Loss: 0.998\n",
      "Epoch: 3 | Batches Done: 1500/1800 | Loss: 0.963\n",
      "Epoch: 3 | Batches Done: 1600/1800 | Loss: 0.967\n",
      "Epoch: 3 | Batches Done: 1700/1800 | Loss: 0.975\n",
      "Epoch: 3 | Batches Done: 1800/1800 | Loss: 0.994\n",
      "==================================================\n",
      "EPOCH 3 OVERALL LOSS: 1.049\n",
      "==================================================\n",
      "Epoch: 4 | Batches Done: 100/1800 | Loss: 0.923\n",
      "Epoch: 4 | Batches Done: 200/1800 | Loss: 0.920\n",
      "Epoch: 4 | Batches Done: 300/1800 | Loss: 0.873\n",
      "Epoch: 4 | Batches Done: 400/1800 | Loss: 0.893\n",
      "Epoch: 4 | Batches Done: 500/1800 | Loss: 0.871\n",
      "Epoch: 4 | Batches Done: 600/1800 | Loss: 0.859\n",
      "Epoch: 4 | Batches Done: 700/1800 | Loss: 0.863\n",
      "Epoch: 4 | Batches Done: 800/1800 | Loss: 0.836\n",
      "Epoch: 4 | Batches Done: 900/1800 | Loss: 0.831\n",
      "Epoch: 4 | Batches Done: 1000/1800 | Loss: 0.855\n",
      "Epoch: 4 | Batches Done: 1100/1800 | Loss: 0.943\n",
      "Epoch: 4 | Batches Done: 1200/1800 | Loss: 0.885\n",
      "Epoch: 4 | Batches Done: 1300/1800 | Loss: 0.832\n",
      "Epoch: 4 | Batches Done: 1400/1800 | Loss: 0.859\n",
      "Epoch: 4 | Batches Done: 1500/1800 | Loss: 0.838\n",
      "Epoch: 4 | Batches Done: 1600/1800 | Loss: 0.945\n",
      "Epoch: 4 | Batches Done: 1700/1800 | Loss: 0.875\n",
      "Epoch: 4 | Batches Done: 1800/1800 | Loss: 0.839\n",
      "==================================================\n",
      "EPOCH 4 OVERALL LOSS: 0.874\n",
      "==================================================\n",
      "Epoch: 5 | Batches Done: 100/1800 | Loss: 0.964\n",
      "Epoch: 5 | Batches Done: 200/1800 | Loss: 0.923\n",
      "Epoch: 5 | Batches Done: 300/1800 | Loss: 0.879\n",
      "Epoch: 5 | Batches Done: 400/1800 | Loss: 0.814\n",
      "Epoch: 5 | Batches Done: 500/1800 | Loss: 0.797\n",
      "Epoch: 5 | Batches Done: 600/1800 | Loss: 0.821\n",
      "Epoch: 5 | Batches Done: 700/1800 | Loss: 0.809\n",
      "Epoch: 5 | Batches Done: 800/1800 | Loss: 0.772\n",
      "Epoch: 5 | Batches Done: 900/1800 | Loss: 0.771\n",
      "Epoch: 5 | Batches Done: 1000/1800 | Loss: 0.779\n",
      "Epoch: 5 | Batches Done: 1100/1800 | Loss: 0.825\n",
      "Epoch: 5 | Batches Done: 1200/1800 | Loss: 0.975\n",
      "Epoch: 5 | Batches Done: 1300/1800 | Loss: 0.935\n",
      "Epoch: 5 | Batches Done: 1400/1800 | Loss: 0.826\n",
      "Epoch: 5 | Batches Done: 1500/1800 | Loss: 0.799\n",
      "Epoch: 5 | Batches Done: 1600/1800 | Loss: 0.760\n",
      "Epoch: 5 | Batches Done: 1700/1800 | Loss: 0.742\n",
      "Epoch: 5 | Batches Done: 1800/1800 | Loss: 0.753\n",
      "==================================================\n",
      "EPOCH 5 OVERALL LOSS: 0.830\n",
      "==================================================\n",
      "Saving model weights at Epoch 5 ...\n",
      "Epoch: 6 | Batches Done: 100/1800 | Loss: 0.721\n",
      "Epoch: 6 | Batches Done: 200/1800 | Loss: 0.726\n",
      "Epoch: 6 | Batches Done: 300/1800 | Loss: 0.677\n",
      "Epoch: 6 | Batches Done: 400/1800 | Loss: 0.700\n",
      "Epoch: 6 | Batches Done: 500/1800 | Loss: 0.717\n",
      "Epoch: 6 | Batches Done: 600/1800 | Loss: 0.676\n",
      "Epoch: 6 | Batches Done: 700/1800 | Loss: 0.689\n",
      "Epoch: 6 | Batches Done: 800/1800 | Loss: 0.669\n",
      "Epoch: 6 | Batches Done: 900/1800 | Loss: 0.662\n",
      "Epoch: 6 | Batches Done: 1000/1800 | Loss: 0.682\n",
      "Epoch: 6 | Batches Done: 1100/1800 | Loss: 0.688\n",
      "Epoch: 6 | Batches Done: 1200/1800 | Loss: 0.706\n",
      "Epoch: 6 | Batches Done: 1300/1800 | Loss: 0.646\n",
      "Epoch: 6 | Batches Done: 1400/1800 | Loss: 0.643\n",
      "Epoch: 6 | Batches Done: 1500/1800 | Loss: 0.632\n",
      "Epoch: 6 | Batches Done: 1600/1800 | Loss: 0.644\n",
      "Epoch: 6 | Batches Done: 1700/1800 | Loss: 0.639\n",
      "Epoch: 6 | Batches Done: 1800/1800 | Loss: 0.660\n",
      "==================================================\n",
      "EPOCH 6 OVERALL LOSS: 0.677\n",
      "==================================================\n",
      "Epoch: 7 | Batches Done: 100/1800 | Loss: 0.638\n",
      "Epoch: 7 | Batches Done: 200/1800 | Loss: 0.628\n",
      "Epoch: 7 | Batches Done: 300/1800 | Loss: 0.656\n",
      "Epoch: 7 | Batches Done: 400/1800 | Loss: 0.608\n",
      "Epoch: 7 | Batches Done: 500/1800 | Loss: 0.636\n",
      "Epoch: 7 | Batches Done: 600/1800 | Loss: 0.614\n",
      "Epoch: 7 | Batches Done: 700/1800 | Loss: 0.596\n",
      "Epoch: 7 | Batches Done: 800/1800 | Loss: 0.622\n",
      "Epoch: 7 | Batches Done: 900/1800 | Loss: 0.595\n",
      "Epoch: 7 | Batches Done: 1000/1800 | Loss: 0.596\n",
      "Epoch: 7 | Batches Done: 1100/1800 | Loss: 0.587\n",
      "Epoch: 7 | Batches Done: 1200/1800 | Loss: 0.593\n",
      "Epoch: 7 | Batches Done: 1300/1800 | Loss: 0.592\n",
      "Epoch: 7 | Batches Done: 1400/1800 | Loss: 0.649\n",
      "Epoch: 7 | Batches Done: 1500/1800 | Loss: 0.622\n",
      "Epoch: 7 | Batches Done: 1600/1800 | Loss: 0.639\n",
      "Epoch: 7 | Batches Done: 1700/1800 | Loss: 0.694\n",
      "Epoch: 7 | Batches Done: 1800/1800 | Loss: 0.717\n",
      "==================================================\n",
      "EPOCH 7 OVERALL LOSS: 0.627\n",
      "==================================================\n",
      "Epoch: 8 | Batches Done: 100/1800 | Loss: 0.608\n",
      "Epoch: 8 | Batches Done: 200/1800 | Loss: 0.595\n",
      "Epoch: 8 | Batches Done: 300/1800 | Loss: 0.603\n",
      "Epoch: 8 | Batches Done: 400/1800 | Loss: 0.584\n",
      "Epoch: 8 | Batches Done: 500/1800 | Loss: 0.612\n",
      "Epoch: 8 | Batches Done: 600/1800 | Loss: 0.547\n",
      "Epoch: 8 | Batches Done: 700/1800 | Loss: 0.562\n",
      "Epoch: 8 | Batches Done: 800/1800 | Loss: 0.547\n",
      "Epoch: 8 | Batches Done: 900/1800 | Loss: 0.516\n",
      "Epoch: 8 | Batches Done: 1000/1800 | Loss: 0.570\n",
      "Epoch: 8 | Batches Done: 1100/1800 | Loss: 0.586\n",
      "Epoch: 8 | Batches Done: 1200/1800 | Loss: 0.552\n",
      "Epoch: 8 | Batches Done: 1300/1800 | Loss: 0.552\n",
      "Epoch: 8 | Batches Done: 1400/1800 | Loss: 0.550\n",
      "Epoch: 8 | Batches Done: 1500/1800 | Loss: 0.527\n",
      "Epoch: 8 | Batches Done: 1600/1800 | Loss: 0.548\n",
      "Epoch: 8 | Batches Done: 1700/1800 | Loss: 0.557\n",
      "Epoch: 8 | Batches Done: 1800/1800 | Loss: 0.548\n",
      "==================================================\n",
      "EPOCH 8 OVERALL LOSS: 0.565\n",
      "==================================================\n",
      "Epoch: 9 | Batches Done: 100/1800 | Loss: 0.514\n",
      "Epoch: 9 | Batches Done: 200/1800 | Loss: 0.518\n",
      "Epoch: 9 | Batches Done: 300/1800 | Loss: 0.508\n"
     ]
    },
    {
     "name": "stdout",
     "output_type": "stream",
     "text": [
      "Epoch: 9 | Batches Done: 400/1800 | Loss: 0.504\n",
      "Epoch: 9 | Batches Done: 500/1800 | Loss: 0.505\n",
      "Epoch: 9 | Batches Done: 600/1800 | Loss: 0.546\n",
      "Epoch: 9 | Batches Done: 700/1800 | Loss: 0.521\n",
      "Epoch: 9 | Batches Done: 800/1800 | Loss: 0.483\n",
      "Epoch: 9 | Batches Done: 900/1800 | Loss: 0.513\n",
      "Epoch: 9 | Batches Done: 1000/1800 | Loss: 0.479\n",
      "Epoch: 9 | Batches Done: 1100/1800 | Loss: 0.518\n",
      "Epoch: 9 | Batches Done: 1200/1800 | Loss: 0.511\n",
      "Epoch: 9 | Batches Done: 1300/1800 | Loss: 0.512\n",
      "Epoch: 9 | Batches Done: 1400/1800 | Loss: 0.491\n",
      "Epoch: 9 | Batches Done: 1500/1800 | Loss: 0.479\n",
      "Epoch: 9 | Batches Done: 1600/1800 | Loss: 0.465\n",
      "Epoch: 9 | Batches Done: 1700/1800 | Loss: 0.513\n",
      "Epoch: 9 | Batches Done: 1800/1800 | Loss: 0.501\n",
      "==================================================\n",
      "EPOCH 9 OVERALL LOSS: 0.504\n",
      "==================================================\n",
      "Epoch: 10 | Batches Done: 100/1800 | Loss: 0.518\n",
      "Epoch: 10 | Batches Done: 200/1800 | Loss: 0.561\n",
      "Epoch: 10 | Batches Done: 300/1800 | Loss: 0.510\n",
      "Epoch: 10 | Batches Done: 400/1800 | Loss: 0.476\n",
      "Epoch: 10 | Batches Done: 500/1800 | Loss: 0.464\n",
      "Epoch: 10 | Batches Done: 600/1800 | Loss: 0.423\n",
      "Epoch: 10 | Batches Done: 700/1800 | Loss: 0.433\n",
      "Epoch: 10 | Batches Done: 800/1800 | Loss: 0.444\n",
      "Epoch: 10 | Batches Done: 900/1800 | Loss: 0.457\n",
      "Epoch: 10 | Batches Done: 1000/1800 | Loss: 0.459\n",
      "Epoch: 10 | Batches Done: 1100/1800 | Loss: 0.449\n",
      "Epoch: 10 | Batches Done: 1200/1800 | Loss: 0.452\n",
      "Epoch: 10 | Batches Done: 1300/1800 | Loss: 0.453\n",
      "Epoch: 10 | Batches Done: 1400/1800 | Loss: 0.445\n",
      "Epoch: 10 | Batches Done: 1500/1800 | Loss: 0.458\n",
      "Epoch: 10 | Batches Done: 1600/1800 | Loss: 0.452\n",
      "Epoch: 10 | Batches Done: 1700/1800 | Loss: 0.424\n",
      "Epoch: 10 | Batches Done: 1800/1800 | Loss: 0.445\n",
      "==================================================\n",
      "EPOCH 10 OVERALL LOSS: 0.462\n",
      "==================================================\n",
      "Saving model weights at Epoch 10 ...\n",
      "Epoch: 11 | Batches Done: 100/1800 | Loss: 0.401\n",
      "Epoch: 11 | Batches Done: 200/1800 | Loss: 0.424\n",
      "Epoch: 11 | Batches Done: 300/1800 | Loss: 0.407\n",
      "Epoch: 11 | Batches Done: 400/1800 | Loss: 0.428\n",
      "Epoch: 11 | Batches Done: 500/1800 | Loss: 0.447\n",
      "Epoch: 11 | Batches Done: 600/1800 | Loss: 0.448\n",
      "Epoch: 11 | Batches Done: 700/1800 | Loss: 0.436\n",
      "Epoch: 11 | Batches Done: 800/1800 | Loss: 0.420\n",
      "Epoch: 11 | Batches Done: 900/1800 | Loss: 0.452\n",
      "Epoch: 11 | Batches Done: 1000/1800 | Loss: 0.464\n",
      "Epoch: 11 | Batches Done: 1100/1800 | Loss: 0.446\n",
      "Epoch: 11 | Batches Done: 1200/1800 | Loss: 0.453\n",
      "Epoch: 11 | Batches Done: 1300/1800 | Loss: 0.462\n",
      "Epoch: 11 | Batches Done: 1400/1800 | Loss: 0.442\n",
      "Epoch: 11 | Batches Done: 1500/1800 | Loss: 0.522\n",
      "Epoch: 11 | Batches Done: 1600/1800 | Loss: 0.491\n",
      "Epoch: 11 | Batches Done: 1700/1800 | Loss: 0.430\n",
      "Epoch: 11 | Batches Done: 1800/1800 | Loss: 0.425\n",
      "==================================================\n",
      "EPOCH 11 OVERALL LOSS: 0.444\n",
      "==================================================\n",
      "Epoch: 12 | Batches Done: 100/1800 | Loss: 0.379\n",
      "Epoch: 12 | Batches Done: 200/1800 | Loss: 0.412\n",
      "Epoch: 12 | Batches Done: 300/1800 | Loss: 0.402\n",
      "Epoch: 12 | Batches Done: 400/1800 | Loss: 0.417\n",
      "Epoch: 12 | Batches Done: 500/1800 | Loss: 0.396\n",
      "Epoch: 12 | Batches Done: 600/1800 | Loss: 0.420\n",
      "Epoch: 12 | Batches Done: 700/1800 | Loss: 0.407\n",
      "Epoch: 12 | Batches Done: 800/1800 | Loss: 0.413\n",
      "Epoch: 12 | Batches Done: 900/1800 | Loss: 0.376\n",
      "Epoch: 12 | Batches Done: 1000/1800 | Loss: 0.388\n",
      "Epoch: 12 | Batches Done: 1100/1800 | Loss: 0.393\n",
      "Epoch: 12 | Batches Done: 1200/1800 | Loss: 0.410\n",
      "Epoch: 12 | Batches Done: 1300/1800 | Loss: 0.427\n",
      "Epoch: 12 | Batches Done: 1400/1800 | Loss: 0.405\n",
      "Epoch: 12 | Batches Done: 1500/1800 | Loss: 0.401\n",
      "Epoch: 12 | Batches Done: 1600/1800 | Loss: 0.396\n",
      "Epoch: 12 | Batches Done: 1700/1800 | Loss: 0.409\n",
      "Epoch: 12 | Batches Done: 1800/1800 | Loss: 0.349\n",
      "==================================================\n",
      "EPOCH 12 OVERALL LOSS: 0.400\n",
      "==================================================\n",
      "Epoch: 13 | Batches Done: 100/1800 | Loss: 0.323\n",
      "Epoch: 13 | Batches Done: 200/1800 | Loss: 0.341\n",
      "Epoch: 13 | Batches Done: 300/1800 | Loss: 0.352\n",
      "Epoch: 13 | Batches Done: 400/1800 | Loss: 0.372\n",
      "Epoch: 13 | Batches Done: 500/1800 | Loss: 0.391\n",
      "Epoch: 13 | Batches Done: 600/1800 | Loss: 0.364\n",
      "Epoch: 13 | Batches Done: 700/1800 | Loss: 0.389\n",
      "Epoch: 13 | Batches Done: 800/1800 | Loss: 0.356\n",
      "Epoch: 13 | Batches Done: 900/1800 | Loss: 0.340\n",
      "Epoch: 13 | Batches Done: 1000/1800 | Loss: 0.365\n",
      "Epoch: 13 | Batches Done: 1100/1800 | Loss: 0.366\n",
      "Epoch: 13 | Batches Done: 1200/1800 | Loss: 0.343\n",
      "Epoch: 13 | Batches Done: 1300/1800 | Loss: 0.324\n",
      "Epoch: 13 | Batches Done: 1400/1800 | Loss: 0.371\n",
      "Epoch: 13 | Batches Done: 1500/1800 | Loss: 0.376\n",
      "Epoch: 13 | Batches Done: 1600/1800 | Loss: 0.352\n",
      "Epoch: 13 | Batches Done: 1700/1800 | Loss: 0.351\n",
      "Epoch: 13 | Batches Done: 1800/1800 | Loss: 0.345\n",
      "==================================================\n",
      "EPOCH 13 OVERALL LOSS: 0.357\n",
      "==================================================\n",
      "Epoch: 14 | Batches Done: 100/1800 | Loss: 0.336\n",
      "Epoch: 14 | Batches Done: 200/1800 | Loss: 0.336\n",
      "Epoch: 14 | Batches Done: 300/1800 | Loss: 0.331\n",
      "Epoch: 14 | Batches Done: 400/1800 | Loss: 0.330\n",
      "Epoch: 14 | Batches Done: 500/1800 | Loss: 0.319\n",
      "Epoch: 14 | Batches Done: 700/1800 | Loss: 0.332\n",
      "Epoch: 14 | Batches Done: 800/1800 | Loss: 0.341\n",
      "Epoch: 14 | Batches Done: 900/1800 | Loss: 0.335\n",
      "Epoch: 14 | Batches Done: 1000/1800 | Loss: 0.333\n",
      "Epoch: 14 | Batches Done: 1100/1800 | Loss: 0.339\n",
      "Epoch: 14 | Batches Done: 1200/1800 | Loss: 0.327\n",
      "Epoch: 14 | Batches Done: 1300/1800 | Loss: 0.350\n",
      "Epoch: 14 | Batches Done: 1400/1800 | Loss: 0.334\n",
      "Epoch: 14 | Batches Done: 1500/1800 | Loss: 0.350\n",
      "Epoch: 14 | Batches Done: 1600/1800 | Loss: 0.338\n"
     ]
    }
   ],
   "source": [
    "# training the model\n",
    "model.train()\n",
    "losslist = []\n",
    "for epoch in range(15):  # loop over the dataset multiple times\n",
    "    running_loss = 0.0\n",
    "    epoch_loss = 0.0\n",
    "    for i, data in enumerate(trainloader, 0):\n",
    "        # get the inputs; data is a list of [inputs, labels]\n",
    "        inputs, labels = data\n",
    "\n",
    "        # zero the parameter gradients\n",
    "        optimizer.zero_grad()\n",
    "\n",
    "        # forward + backward + optimize\n",
    "        outputs = model(inputs.to(device))\n",
    "        loss = criterion(outputs, labels.to(device))\n",
    "        loss.backward()\n",
    "        optimizer.step()\n",
    "\n",
    "        # print statistics\n",
    "        running_loss += loss.item()\n",
    "        if i % 100 == 99:    # print every 100 mini-batches\n",
    "            print(f'Epoch: {epoch+1} | Batches Done: {i+1}/1800 | Loss: {(running_loss/100):.3f}')\n",
    "            epoch_loss += running_loss\n",
    "            running_loss = 0.0\n",
    "    losslist.append(epoch_loss/1800)\n",
    "    print(\"=\"*50)\n",
    "    print(f\"EPOCH {epoch+1} OVERALL LOSS: {losslist[-1]:.3f}\")\n",
    "    print(\"=\"*50)\n",
    "    if epoch % 5 == 4:\n",
    "        path = f\"models40/lstm_{epoch+1}_checkpoint.pth\"\n",
    "        print(f\"Saving model weights at Epoch {epoch+1} ...\")\n",
    "        torch.save(model.state_dict(), path)\n",
    "print(\"Finished Training!\")"
   ]
  },
  {
   "cell_type": "code",
   "execution_count": null,
   "metadata": {
    "scrolled": true
   },
   "outputs": [
    {
     "name": "stdout",
     "output_type": "stream",
     "text": [
      "Epoch: 11 | Batches Done: 100/1800 | Loss: 0.424\n",
      "Epoch: 11 | Batches Done: 200/1800 | Loss: 0.430\n",
      "Epoch: 11 | Batches Done: 300/1800 | Loss: 0.410\n",
      "Epoch: 11 | Batches Done: 400/1800 | Loss: 0.402\n",
      "Epoch: 11 | Batches Done: 500/1800 | Loss: 0.452\n",
      "Epoch: 11 | Batches Done: 600/1800 | Loss: 0.421\n",
      "Epoch: 11 | Batches Done: 700/1800 | Loss: 0.408\n",
      "Epoch: 11 | Batches Done: 800/1800 | Loss: 0.404\n",
      "Epoch: 11 | Batches Done: 900/1800 | Loss: 0.426\n",
      "Epoch: 11 | Batches Done: 1000/1800 | Loss: 0.434\n",
      "Epoch: 11 | Batches Done: 1100/1800 | Loss: 0.415\n",
      "Epoch: 11 | Batches Done: 1200/1800 | Loss: 0.421\n",
      "Epoch: 11 | Batches Done: 1300/1800 | Loss: 0.451\n",
      "Epoch: 11 | Batches Done: 1400/1800 | Loss: 0.436\n",
      "Epoch: 11 | Batches Done: 1500/1800 | Loss: 0.395\n",
      "Epoch: 11 | Batches Done: 1600/1800 | Loss: 0.380\n",
      "Epoch: 11 | Batches Done: 1700/1800 | Loss: 0.393\n",
      "Epoch: 11 | Batches Done: 1800/1800 | Loss: 0.459\n",
      "==================================================\n",
      "EPOCH 11 OVERALL LOSS: 0.420\n",
      "==================================================\n",
      "Epoch: 12 | Batches Done: 100/1800 | Loss: 0.380\n",
      "Epoch: 12 | Batches Done: 200/1800 | Loss: 0.394\n",
      "Epoch: 12 | Batches Done: 300/1800 | Loss: 0.423\n",
      "Epoch: 12 | Batches Done: 400/1800 | Loss: 0.409\n",
      "Epoch: 12 | Batches Done: 500/1800 | Loss: 0.416\n",
      "Epoch: 12 | Batches Done: 600/1800 | Loss: 0.424\n",
      "Epoch: 12 | Batches Done: 700/1800 | Loss: 0.623\n",
      "Epoch: 12 | Batches Done: 800/1800 | Loss: 0.448\n",
      "Epoch: 12 | Batches Done: 900/1800 | Loss: 0.401\n",
      "Epoch: 12 | Batches Done: 1000/1800 | Loss: 0.384\n",
      "Epoch: 12 | Batches Done: 1100/1800 | Loss: 0.391\n",
      "Epoch: 12 | Batches Done: 1200/1800 | Loss: 0.393\n",
      "Epoch: 12 | Batches Done: 1300/1800 | Loss: 0.353\n",
      "Epoch: 12 | Batches Done: 1400/1800 | Loss: 0.367\n",
      "Epoch: 12 | Batches Done: 1500/1800 | Loss: 0.367\n",
      "Epoch: 12 | Batches Done: 1600/1800 | Loss: 0.367\n",
      "Epoch: 12 | Batches Done: 1700/1800 | Loss: 0.386\n",
      "Epoch: 12 | Batches Done: 1800/1800 | Loss: 0.366\n",
      "==================================================\n",
      "EPOCH 12 OVERALL LOSS: 0.405\n",
      "==================================================\n",
      "Epoch: 13 | Batches Done: 100/1800 | Loss: 0.340\n",
      "Epoch: 13 | Batches Done: 200/1800 | Loss: 0.331\n",
      "Epoch: 13 | Batches Done: 300/1800 | Loss: 0.352\n",
      "Epoch: 13 | Batches Done: 400/1800 | Loss: 0.341\n",
      "Epoch: 13 | Batches Done: 500/1800 | Loss: 0.357\n",
      "Epoch: 13 | Batches Done: 600/1800 | Loss: 0.337\n",
      "Epoch: 13 | Batches Done: 700/1800 | Loss: 0.352\n",
      "Epoch: 13 | Batches Done: 800/1800 | Loss: 0.340\n",
      "Epoch: 13 | Batches Done: 900/1800 | Loss: 0.360\n",
      "Epoch: 13 | Batches Done: 1000/1800 | Loss: 0.327\n",
      "Epoch: 13 | Batches Done: 1100/1800 | Loss: 0.353\n",
      "Epoch: 13 | Batches Done: 1200/1800 | Loss: 0.326\n",
      "Epoch: 13 | Batches Done: 1300/1800 | Loss: 0.333\n",
      "Epoch: 13 | Batches Done: 1400/1800 | Loss: 0.354\n",
      "Epoch: 13 | Batches Done: 1500/1800 | Loss: 0.353\n",
      "Epoch: 13 | Batches Done: 1600/1800 | Loss: 0.364\n",
      "Epoch: 13 | Batches Done: 1700/1800 | Loss: 0.354\n",
      "Epoch: 13 | Batches Done: 1800/1800 | Loss: 0.355\n",
      "==================================================\n",
      "EPOCH 13 OVERALL LOSS: 0.346\n",
      "==================================================\n",
      "Epoch: 14 | Batches Done: 100/1800 | Loss: 0.332\n",
      "Epoch: 14 | Batches Done: 200/1800 | Loss: 0.333\n",
      "Epoch: 14 | Batches Done: 300/1800 | Loss: 0.378\n",
      "Epoch: 14 | Batches Done: 400/1800 | Loss: 0.367\n",
      "Epoch: 14 | Batches Done: 500/1800 | Loss: 0.344\n",
      "Epoch: 14 | Batches Done: 600/1800 | Loss: 0.314\n",
      "Epoch: 14 | Batches Done: 700/1800 | Loss: 0.309\n",
      "Epoch: 14 | Batches Done: 800/1800 | Loss: 0.331\n",
      "Epoch: 14 | Batches Done: 900/1800 | Loss: 0.324\n",
      "Epoch: 14 | Batches Done: 1000/1800 | Loss: 0.324\n",
      "Epoch: 14 | Batches Done: 1100/1800 | Loss: 0.382\n",
      "Epoch: 14 | Batches Done: 1200/1800 | Loss: 0.343\n",
      "Epoch: 14 | Batches Done: 1300/1800 | Loss: 0.389\n",
      "Epoch: 14 | Batches Done: 1400/1800 | Loss: 0.343\n",
      "Epoch: 14 | Batches Done: 1500/1800 | Loss: 0.320\n",
      "Epoch: 14 | Batches Done: 1600/1800 | Loss: 0.328\n",
      "Epoch: 14 | Batches Done: 1700/1800 | Loss: 0.338\n",
      "Epoch: 14 | Batches Done: 1800/1800 | Loss: 0.295\n",
      "==================================================\n",
      "EPOCH 14 OVERALL LOSS: 0.338\n",
      "==================================================\n",
      "Epoch: 15 | Batches Done: 100/1800 | Loss: 0.298\n",
      "Epoch: 15 | Batches Done: 200/1800 | Loss: 0.311\n",
      "Epoch: 15 | Batches Done: 300/1800 | Loss: 0.302\n",
      "Epoch: 15 | Batches Done: 400/1800 | Loss: 0.319\n",
      "Epoch: 15 | Batches Done: 500/1800 | Loss: 0.306\n",
      "Epoch: 15 | Batches Done: 600/1800 | Loss: 0.304\n",
      "Epoch: 15 | Batches Done: 700/1800 | Loss: 0.337\n",
      "Epoch: 15 | Batches Done: 800/1800 | Loss: 0.300\n",
      "Epoch: 15 | Batches Done: 900/1800 | Loss: 0.297\n",
      "Epoch: 15 | Batches Done: 1000/1800 | Loss: 0.364\n",
      "Epoch: 15 | Batches Done: 1100/1800 | Loss: 0.410\n",
      "Epoch: 15 | Batches Done: 1200/1800 | Loss: 0.333\n",
      "Epoch: 15 | Batches Done: 1300/1800 | Loss: 0.333\n",
      "Epoch: 15 | Batches Done: 1400/1800 | Loss: 0.321\n",
      "Epoch: 15 | Batches Done: 1500/1800 | Loss: 0.328\n",
      "Epoch: 15 | Batches Done: 1600/1800 | Loss: 0.309\n",
      "Epoch: 15 | Batches Done: 1700/1800 | Loss: 0.303\n",
      "Epoch: 15 | Batches Done: 1800/1800 | Loss: 0.308\n",
      "==================================================\n",
      "EPOCH 15 OVERALL LOSS: 0.321\n",
      "==================================================\n",
      "Saving model weights at Epoch 15 ...\n",
      "Epoch: 16 | Batches Done: 100/1800 | Loss: 0.300\n",
      "Epoch: 16 | Batches Done: 200/1800 | Loss: 0.293\n",
      "Epoch: 16 | Batches Done: 300/1800 | Loss: 0.343\n",
      "Epoch: 16 | Batches Done: 400/1800 | Loss: 0.286\n",
      "Epoch: 16 | Batches Done: 500/1800 | Loss: 0.271\n",
      "Epoch: 16 | Batches Done: 600/1800 | Loss: 0.273\n",
      "Epoch: 16 | Batches Done: 700/1800 | Loss: 0.267\n",
      "Epoch: 16 | Batches Done: 800/1800 | Loss: 0.276\n",
      "Epoch: 16 | Batches Done: 900/1800 | Loss: 0.298\n",
      "Epoch: 16 | Batches Done: 1000/1800 | Loss: 0.307\n",
      "Epoch: 16 | Batches Done: 1100/1800 | Loss: 0.264\n",
      "Epoch: 16 | Batches Done: 1200/1800 | Loss: 0.291\n",
      "Epoch: 16 | Batches Done: 1300/1800 | Loss: 0.288\n",
      "Epoch: 16 | Batches Done: 1400/1800 | Loss: 0.259\n",
      "Epoch: 16 | Batches Done: 1500/1800 | Loss: 0.304\n",
      "Epoch: 16 | Batches Done: 1600/1800 | Loss: 0.735\n",
      "Epoch: 16 | Batches Done: 1700/1800 | Loss: 0.421\n",
      "Epoch: 16 | Batches Done: 1800/1800 | Loss: 0.338\n",
      "==================================================\n",
      "EPOCH 16 OVERALL LOSS: 0.323\n",
      "==================================================\n",
      "Epoch: 17 | Batches Done: 100/1800 | Loss: 0.320\n",
      "Epoch: 17 | Batches Done: 200/1800 | Loss: 0.306\n",
      "Epoch: 17 | Batches Done: 300/1800 | Loss: 0.297\n",
      "Epoch: 17 | Batches Done: 400/1800 | Loss: 0.335\n",
      "Epoch: 17 | Batches Done: 500/1800 | Loss: 0.308\n",
      "Epoch: 17 | Batches Done: 600/1800 | Loss: 0.286\n",
      "Epoch: 17 | Batches Done: 700/1800 | Loss: 0.267\n",
      "Epoch: 17 | Batches Done: 800/1800 | Loss: 0.273\n",
      "Epoch: 17 | Batches Done: 900/1800 | Loss: 0.253\n",
      "Epoch: 17 | Batches Done: 1000/1800 | Loss: 0.281\n",
      "Epoch: 17 | Batches Done: 1100/1800 | Loss: 0.265\n",
      "Epoch: 17 | Batches Done: 1200/1800 | Loss: 0.265\n",
      "Epoch: 17 | Batches Done: 1300/1800 | Loss: 0.231\n",
      "Epoch: 17 | Batches Done: 1400/1800 | Loss: 0.269\n",
      "Epoch: 17 | Batches Done: 1500/1800 | Loss: 0.303\n",
      "Epoch: 17 | Batches Done: 1600/1800 | Loss: 0.284\n",
      "Epoch: 17 | Batches Done: 1700/1800 | Loss: 0.250\n",
      "Epoch: 17 | Batches Done: 1800/1800 | Loss: 0.267\n",
      "==================================================\n",
      "EPOCH 17 OVERALL LOSS: 0.281\n",
      "==================================================\n",
      "Epoch: 18 | Batches Done: 100/1800 | Loss: 0.247\n",
      "Epoch: 18 | Batches Done: 200/1800 | Loss: 0.237\n",
      "Epoch: 18 | Batches Done: 300/1800 | Loss: 0.240\n",
      "Epoch: 18 | Batches Done: 400/1800 | Loss: 0.234\n",
      "Epoch: 18 | Batches Done: 500/1800 | Loss: 0.261\n",
      "Epoch: 18 | Batches Done: 600/1800 | Loss: 0.252\n",
      "Epoch: 18 | Batches Done: 700/1800 | Loss: 0.248\n",
      "Epoch: 18 | Batches Done: 800/1800 | Loss: 0.252\n",
      "Epoch: 18 | Batches Done: 900/1800 | Loss: 0.252\n",
      "Epoch: 18 | Batches Done: 1000/1800 | Loss: 0.258\n",
      "Epoch: 18 | Batches Done: 1100/1800 | Loss: 0.239\n",
      "Epoch: 18 | Batches Done: 1200/1800 | Loss: 0.226\n",
      "Epoch: 18 | Batches Done: 1300/1800 | Loss: 0.223\n",
      "Epoch: 18 | Batches Done: 1400/1800 | Loss: 0.241\n",
      "Epoch: 18 | Batches Done: 1500/1800 | Loss: 0.236\n",
      "Epoch: 18 | Batches Done: 1600/1800 | Loss: 0.249\n",
      "Epoch: 18 | Batches Done: 1700/1800 | Loss: 0.257\n",
      "Epoch: 18 | Batches Done: 1800/1800 | Loss: 0.228\n",
      "==================================================\n",
      "EPOCH 18 OVERALL LOSS: 0.243\n",
      "==================================================\n"
     ]
    },
    {
     "name": "stdout",
     "output_type": "stream",
     "text": [
      "Epoch: 19 | Batches Done: 100/1800 | Loss: 0.201\n",
      "Epoch: 19 | Batches Done: 200/1800 | Loss: 0.222\n",
      "Epoch: 19 | Batches Done: 300/1800 | Loss: 0.235\n",
      "Epoch: 19 | Batches Done: 400/1800 | Loss: 0.215\n",
      "Epoch: 19 | Batches Done: 500/1800 | Loss: 0.225\n",
      "Epoch: 19 | Batches Done: 600/1800 | Loss: 0.268\n",
      "Epoch: 19 | Batches Done: 700/1800 | Loss: 0.252\n",
      "Epoch: 19 | Batches Done: 800/1800 | Loss: 0.234\n",
      "Epoch: 19 | Batches Done: 900/1800 | Loss: 0.230\n",
      "Epoch: 19 | Batches Done: 1000/1800 | Loss: 0.245\n"
     ]
    }
   ],
   "source": [
    "# Continue training\n",
    "# training the model\n",
    "model.train()\n",
    "losslist = []\n",
    "for epoch in range(10, 31):  # loop over the dataset multiple times\n",
    "    running_loss = 0.0\n",
    "    epoch_loss = 0.0\n",
    "    for i, data in enumerate(trainloader, 0):\n",
    "        # get the inputs; data is a list of [inputs, labels]\n",
    "        inputs, labels = data\n",
    "\n",
    "        # zero the parameter gradients\n",
    "        optimizer.zero_grad()\n",
    "\n",
    "        # forward + backward + optimize\n",
    "        outputs = model(inputs.to(device))\n",
    "        loss = criterion(outputs, labels.to(device))\n",
    "        loss.backward()\n",
    "        optimizer.step()\n",
    "\n",
    "        # print statistics\n",
    "        running_loss += loss.item()\n",
    "        if i % 100 == 99:    # print every 100 mini-batches\n",
    "            print(f'Epoch: {epoch+1} | Batches Done: {i+1}/1800 | Loss: {(running_loss/100):.3f}')\n",
    "            epoch_loss += running_loss\n",
    "            running_loss = 0.0\n",
    "    losslist.append(epoch_loss/1800)\n",
    "    print(\"=\"*50)\n",
    "    print(f\"EPOCH {epoch+1} OVERALL LOSS: {losslist[-1]:.3f}\")\n",
    "    print(\"=\"*50)\n",
    "    if epoch % 5 == 4:\n",
    "        path = f\"models40/lstm_{epoch+1}_checkpoint.pth\"\n",
    "        print(f\"Saving model weights at Epoch {epoch+1} ...\")\n",
    "        torch.save(model.state_dict(), path)\n",
    "print(\"Finished Training!\")"
   ]
  },
  {
   "cell_type": "code",
   "execution_count": 8,
   "metadata": {},
   "outputs": [],
   "source": [
    "# Plot loss curve\n",
    "\n",
    "data = open(\"40_losslist_lstm.txt\").read().strip().split(\"\\n\")\n",
    "data = np.array(list(map(lambda x: eval(x.split()[-1]), data)))"
   ]
  },
  {
   "cell_type": "code",
   "execution_count": 10,
   "metadata": {},
   "outputs": [
    {
     "data": {
      "text/plain": [
       "13"
      ]
     },
     "execution_count": 10,
     "metadata": {},
     "output_type": "execute_result"
    }
   ],
   "source": [
    "234//18"
   ]
  },
  {
   "cell_type": "code",
   "execution_count": 11,
   "metadata": {},
   "outputs": [],
   "source": [
    "losslist=[]\n",
    "for i in range(13):\n",
    "    start = i*18\n",
    "    epoch_data = np.mean(data[start:start+18])\n",
    "    losslist.append(epoch_data)\n",
    "losslist = np.array(losslist)\n",
    "np.save(\"40_lstm_losslist.npy\", losslist)"
   ]
  },
  {
   "cell_type": "code",
   "execution_count": 16,
   "metadata": {},
   "outputs": [
    {
     "data": {
      "image/png": "[encoded data removed]",
      "text/plain": [
       "<Figure size 432x288 with 1 Axes>"
      ]
     },
     "metadata": {
      "needs_background": "light"
     },
     "output_type": "display_data"
    }
   ],
   "source": [
    "losslist = np.load(\"40_lstm_losslist.npy\")\n",
    "plt.plot(list(np.arange(1,len(losslist)+1)), losslist)\n",
    "plt.xlabel(\"Epoch\")\n",
    "plt.ylabel(\"Average Loss\")\n",
    "plt.savefig(\"plots/40_lstm_loss_plot.png\")\n",
    "plt.show()"
   ]
  },
  {
   "cell_type": "code",
   "execution_count": 11,
   "metadata": {},
   "outputs": [
    {
     "name": "stdout",
     "output_type": "stream",
     "text": [
      "Training data: X - torch.Size([24000, 5000]), Y - torch.Size([24000])\n"
     ]
    }
   ],
   "source": [
    "# load test datasets \n",
    "\n",
    "X_test = torch.from_numpy(np.load(\"data/X_test40.npy\")).long()\n",
    "Y_test = torch.from_numpy(np.load(\"data/Y_test40.npy\")).long()\n",
    "print(f\"Training data: X - {X_test.shape}, Y - {Y_test.shape}\")"
   ]
  },
  {
   "cell_type": "code",
   "execution_count": 12,
   "metadata": {},
   "outputs": [],
   "source": [
    "def evaluate_sample(preds, labels, threshold):\n",
    "    matched = float(torch.sum(preds==labels))\n",
    "    if matched/len(preds) >= threshold:\n",
    "        return True\n",
    "    return False\n",
    "\n",
    "def evaluate(net, X_test, Y_test, verbose=False, threshold=0.6):\n",
    "    net.eval()\n",
    "    N = len(Y_test)//200 # no of music samples in test set\n",
    "    correct = 0\n",
    "    for i in range(N):\n",
    "        start = i*200\n",
    "        with torch.no_grad():\n",
    "            out = net.forward(X_test[start:start+200].to(device))\n",
    "        preds = torch.argmax(out, axis=-1)\n",
    "        labels = Y_test[start:start+200].to(device)\n",
    "        if evaluate_sample(preds, labels, threshold):\n",
    "            correct+=1\n",
    "            if verbose:\n",
    "                print(f\"Sample {i+1}/{N} classified as CORRECT\")\n",
    "        elif verbose:\n",
    "            print(f\"Sample {i+1}/{N} classified as INCORRECT\")    \n",
    "\n",
    "    accuracy = correct/N\n",
    "    print(\"=\"*50)\n",
    "    print(f\"Accuracy of the model on {N} unseen music samples: {(accuracy*100):.2f}%\")\n",
    "    print(\"=\"*50)"
   ]
  },
  {
   "cell_type": "code",
   "execution_count": 14,
   "metadata": {},
   "outputs": [
    {
     "data": {
      "text/plain": [
       "<All keys matched successfully>"
      ]
     },
     "execution_count": 14,
     "metadata": {},
     "output_type": "execute_result"
    }
   ],
   "source": [
    "# model.load_state_dict(torch.load(\"lstm_30_model.pth\"))"
   ]
  },
  {
   "cell_type": "code",
   "execution_count": 13,
   "metadata": {},
   "outputs": [
    {
     "name": "stdout",
     "output_type": "stream",
     "text": [
      "Sample 1/120 classified as CORRECT\n",
      "Sample 2/120 classified as CORRECT\n",
      "Sample 3/120 classified as CORRECT\n",
      "Sample 4/120 classified as CORRECT\n",
      "Sample 5/120 classified as INCORRECT\n",
      "Sample 6/120 classified as CORRECT\n",
      "Sample 7/120 classified as INCORRECT\n",
      "Sample 8/120 classified as INCORRECT\n",
      "Sample 9/120 classified as INCORRECT\n",
      "Sample 10/120 classified as INCORRECT\n",
      "Sample 11/120 classified as CORRECT\n",
      "Sample 12/120 classified as INCORRECT\n",
      "Sample 13/120 classified as CORRECT\n",
      "Sample 14/120 classified as CORRECT\n",
      "Sample 15/120 classified as CORRECT\n",
      "Sample 16/120 classified as CORRECT\n",
      "Sample 17/120 classified as CORRECT\n",
      "Sample 18/120 classified as CORRECT\n",
      "Sample 19/120 classified as CORRECT\n",
      "Sample 20/120 classified as CORRECT\n",
      "Sample 21/120 classified as CORRECT\n",
      "Sample 22/120 classified as CORRECT\n",
      "Sample 23/120 classified as CORRECT\n",
      "Sample 24/120 classified as CORRECT\n",
      "Sample 25/120 classified as CORRECT\n",
      "Sample 26/120 classified as CORRECT\n",
      "Sample 27/120 classified as CORRECT\n",
      "Sample 28/120 classified as INCORRECT\n",
      "Sample 29/120 classified as CORRECT\n",
      "Sample 30/120 classified as INCORRECT\n",
      "Sample 31/120 classified as CORRECT\n",
      "Sample 32/120 classified as CORRECT\n",
      "Sample 33/120 classified as CORRECT\n",
      "Sample 34/120 classified as INCORRECT\n",
      "Sample 35/120 classified as INCORRECT\n",
      "Sample 36/120 classified as INCORRECT\n",
      "Sample 37/120 classified as CORRECT\n",
      "Sample 38/120 classified as CORRECT\n",
      "Sample 39/120 classified as CORRECT\n",
      "Sample 40/120 classified as CORRECT\n",
      "Sample 41/120 classified as INCORRECT\n",
      "Sample 42/120 classified as INCORRECT\n",
      "Sample 43/120 classified as CORRECT\n",
      "Sample 44/120 classified as CORRECT\n",
      "Sample 45/120 classified as CORRECT\n",
      "Sample 46/120 classified as CORRECT\n",
      "Sample 47/120 classified as INCORRECT\n",
      "Sample 48/120 classified as INCORRECT\n",
      "Sample 49/120 classified as INCORRECT\n",
      "Sample 50/120 classified as CORRECT\n",
      "Sample 51/120 classified as CORRECT\n",
      "Sample 52/120 classified as INCORRECT\n",
      "Sample 53/120 classified as INCORRECT\n",
      "Sample 54/120 classified as INCORRECT\n",
      "Sample 55/120 classified as INCORRECT\n",
      "Sample 56/120 classified as INCORRECT\n",
      "Sample 57/120 classified as CORRECT\n",
      "Sample 58/120 classified as CORRECT\n",
      "Sample 59/120 classified as CORRECT\n",
      "Sample 60/120 classified as CORRECT\n",
      "Sample 61/120 classified as CORRECT\n",
      "Sample 62/120 classified as INCORRECT\n",
      "Sample 63/120 classified as CORRECT\n",
      "Sample 64/120 classified as CORRECT\n",
      "Sample 65/120 classified as CORRECT\n",
      "Sample 66/120 classified as CORRECT\n",
      "Sample 67/120 classified as INCORRECT\n",
      "Sample 68/120 classified as INCORRECT\n",
      "Sample 69/120 classified as INCORRECT\n",
      "Sample 70/120 classified as INCORRECT\n",
      "Sample 71/120 classified as CORRECT\n",
      "Sample 72/120 classified as INCORRECT\n",
      "Sample 73/120 classified as CORRECT\n",
      "Sample 74/120 classified as INCORRECT\n",
      "Sample 75/120 classified as CORRECT\n",
      "Sample 76/120 classified as CORRECT\n",
      "Sample 77/120 classified as CORRECT\n",
      "Sample 78/120 classified as CORRECT\n",
      "Sample 79/120 classified as INCORRECT\n",
      "Sample 80/120 classified as CORRECT\n",
      "Sample 81/120 classified as CORRECT\n",
      "Sample 82/120 classified as INCORRECT\n",
      "Sample 83/120 classified as CORRECT\n",
      "Sample 84/120 classified as CORRECT\n",
      "Sample 85/120 classified as CORRECT\n",
      "Sample 86/120 classified as INCORRECT\n",
      "Sample 87/120 classified as INCORRECT\n",
      "Sample 88/120 classified as CORRECT\n",
      "Sample 89/120 classified as CORRECT\n",
      "Sample 90/120 classified as CORRECT\n",
      "Sample 91/120 classified as CORRECT\n",
      "Sample 92/120 classified as CORRECT\n",
      "Sample 93/120 classified as INCORRECT\n",
      "Sample 94/120 classified as INCORRECT\n",
      "Sample 95/120 classified as CORRECT\n",
      "Sample 96/120 classified as CORRECT\n",
      "Sample 97/120 classified as CORRECT\n",
      "Sample 98/120 classified as INCORRECT\n",
      "Sample 99/120 classified as CORRECT\n",
      "Sample 100/120 classified as CORRECT\n",
      "Sample 101/120 classified as CORRECT\n",
      "Sample 102/120 classified as CORRECT\n",
      "Sample 103/120 classified as INCORRECT\n",
      "Sample 104/120 classified as CORRECT\n",
      "Sample 105/120 classified as CORRECT\n",
      "Sample 106/120 classified as CORRECT\n",
      "Sample 107/120 classified as CORRECT\n",
      "Sample 108/120 classified as CORRECT\n",
      "Sample 109/120 classified as INCORRECT\n",
      "Sample 110/120 classified as CORRECT\n",
      "Sample 111/120 classified as CORRECT\n",
      "Sample 112/120 classified as INCORRECT\n",
      "Sample 113/120 classified as INCORRECT\n",
      "Sample 114/120 classified as INCORRECT\n",
      "Sample 115/120 classified as CORRECT\n",
      "Sample 116/120 classified as CORRECT\n",
      "Sample 117/120 classified as INCORRECT\n",
      "Sample 118/120 classified as CORRECT\n",
      "Sample 119/120 classified as CORRECT\n",
      "Sample 120/120 classified as CORRECT\n",
      "==================================================\n",
      "Accuracy of the model on 120 unseen music samples: 65.83%\n",
      "==================================================\n"
     ]
    }
   ],
   "source": [
    "evaluate(model, X_test, Y_test, threshold=0.6, verbose=True)"
   ]
  },
  {
   "cell_type": "code",
   "execution_count": 14,
   "metadata": {},
   "outputs": [
    {
     "name": "stdout",
     "output_type": "stream",
     "text": [
      "==================================================\n",
      "Accuracy of the model on 120 unseen music samples: 75.00%\n",
      "==================================================\n"
     ]
    }
   ],
   "source": [
    "evaluate(model, X_test, Y_test, threshold=0.5)"
   ]
  },
  {
   "cell_type": "code",
   "execution_count": 22,
   "metadata": {},
   "outputs": [],
   "source": [
    "def evaluate_naive(net, X_test, Y_test):\n",
    "    net.eval()\n",
    "    N = len(Y_test)//200 # no of music samples in test set\n",
    "    correct = 0\n",
    "    for i in range(N):\n",
    "        start = i*200\n",
    "        with torch.no_grad():\n",
    "            out = net.forward(X_test[start:start+200].to(device))\n",
    "        preds = torch.argmax(out, axis=-1)\n",
    "        labels = Y_test[start:start+200].to(device)\n",
    "        correct += torch.sum(preds==labels)\n",
    "        \n",
    "    accuracy = float(correct)/len(Y_test)\n",
    "    print(\"=\"*50)\n",
    "    print(f\"Accuracy on given data: {(accuracy*100):.2f}%\")\n",
    "    print(\"=\"*50)"
   ]
  },
  {
   "cell_type": "code",
   "execution_count": 19,
   "metadata": {},
   "outputs": [
    {
     "name": "stdout",
     "output_type": "stream",
     "text": [
      "==================================================\n",
      "Accuracy on given data: 98.61%\n",
      "==================================================\n"
     ]
    }
   ],
   "source": [
    "evaluate_naive(net, X_train, Y_train)"
   ]
  },
  {
   "cell_type": "code",
   "execution_count": 24,
   "metadata": {},
   "outputs": [
    {
     "name": "stdout",
     "output_type": "stream",
     "text": [
      "==================================================\n",
      "Accuracy on given data: 64.75%\n",
      "==================================================\n"
     ]
    }
   ],
   "source": [
    "evaluate_naive(model, X_test, Y_test)"
   ]
  },
  {
   "cell_type": "code",
   "execution_count": 35,
   "metadata": {},
   "outputs": [],
   "source": [
    "np.save(\"lstm_losslist.npy\", losslist)"
   ]
  },
  {
   "cell_type": "code",
   "execution_count": 36,
   "metadata": {},
   "outputs": [
    {
     "data": {
      "image/png": "[encoded data removed]",
      "text/plain": [
       "<Figure size 432x288 with 1 Axes>"
      ]
     },
     "metadata": {
      "needs_background": "light"
     },
     "output_type": "display_data"
    }
   ],
   "source": [
    "losslist = np.load(\"lstm_losslist.npy\")\n",
    "plt.plot(list(np.arange(1,len(losslist)+1)), losslist)\n",
    "plt.title(\"Average Loss vs Epoch for LSTM with Attention model\\n\")\n",
    "plt.xlabel(\"Epoch\")\n",
    "plt.ylabel(\"Average Loss\")\n",
    "plt.savefig(\"plots/lstm_loss_plot.png\")\n",
    "plt.show()"
   ]
  }
 ],
 "metadata": {
  "accelerator": "GPU",
  "colab": {
   "collapsed_sections": [],
   "name": "deepSRGM.ipynb",
   "provenance": []
  },
  "kernelspec": {
   "display_name": "Python 3",
   "language": "python",
   "name": "python3"
  },
  "language_info": {
   "codemirror_mode": {
    "name": "ipython",
    "version": 3
   },
   "file_extension": ".py",
   "mimetype": "text/x-python",
   "name": "python",
   "nbconvert_exporter": "python",
   "pygments_lexer": "ipython3",
   "version": "3.7.7"
  }
 },
 "nbformat": 4,
 "nbformat_minor": 1
}
