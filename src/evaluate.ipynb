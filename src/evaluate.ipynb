{
 "cells": [
  {
   "cell_type": "code",
   "execution_count": 1,
   "metadata": {
    "colab": {
     "base_uri": "https://localhost:8080/"
    },
    "id": "6My7bxkUNBA0",
    "outputId": "f6ca1cdb-93d5-4777-b7d7-78f3609f2f22"
   },
   "outputs": [
    {
     "name": "stdout",
     "output_type": "stream",
     "text": [
      "/home/teamdaedulus/automatic-raga-recognition/src\n"
     ]
    }
   ],
   "source": [
    "# Navigating to the project code directory\n",
    "\n",
    "%cd /home/teamdaedulus/automatic-raga-recognition/src"
   ]
  },
  {
   "cell_type": "markdown",
   "metadata": {},
   "source": [
    "#### Importing required packages"
   ]
  },
  {
   "cell_type": "code",
   "execution_count": 2,
   "metadata": {
    "id": "IHqzijIt1KkP"
   },
   "outputs": [],
   "source": [
    "import torch\n",
    "# import torch.nn as nn\n",
    "import numpy as np\n",
    "import matplotlib.pyplot as plt"
   ]
  },
  {
   "cell_type": "code",
   "execution_count": 3,
   "metadata": {
    "colab": {
     "base_uri": "https://localhost:8080/"
    },
    "id": "lzndq-fYCGg4",
    "outputId": "3f0b7576-3cf1-4e5a-a3ec-b22b601cf0ce"
   },
   "outputs": [
    {
     "data": {
      "text/plain": [
       "device(type='cuda')"
      ]
     },
     "execution_count": 3,
     "metadata": {},
     "output_type": "execute_result"
    }
   ],
   "source": [
    "torch.cuda.empty_cache()\n",
    "device = torch.device(\"cuda\") if torch.cuda.is_available() else torch.device(\"cpu\")\n",
    "device"
   ]
  },
  {
   "cell_type": "markdown",
   "metadata": {},
   "source": [
    "### Test LSTM-based model performance\n",
    "\n",
    "#### Load Test Data"
   ]
  },
  {
   "cell_type": "code",
   "execution_count": 4,
   "metadata": {},
   "outputs": [],
   "source": [
    "# load test datasets\n",
    "\n",
    "X_test = torch.from_numpy(np.load(\"../data/X_test.npy\")).long()\n",
    "Y_test = torch.from_numpy(np.load(\"../data/Y_test.npy\")).long()"
   ]
  },
  {
   "cell_type": "markdown",
   "metadata": {},
   "source": [
    "#### Create model instance and load weights"
   ]
  },
  {
   "cell_type": "code",
   "execution_count": 5,
   "metadata": {},
   "outputs": [
    {
     "name": "stderr",
     "output_type": "stream",
     "text": [
      "/opt/anaconda3/envs/pipenv/lib/python3.7/site-packages/torch/nn/modules/rnn.py:50: UserWarning: dropout option adds dropout after all but last recurrent layer, so non-zero dropout expects num_layers greater than 1, but got dropout=0.3 and num_layers=1\n",
      "  \"num_layers={}\".format(dropout, num_layers))\n"
     ]
    }
   ],
   "source": [
    "from deepSRGM import DeepSRGM\n",
    "model = DeepSRGM(rnn='lstm').to(device)"
   ]
  },
  {
   "cell_type": "code",
   "execution_count": 6,
   "metadata": {},
   "outputs": [
    {
     "data": {
      "text/plain": [
       "<All keys matched successfully>"
      ]
     },
     "execution_count": 6,
     "metadata": {},
     "output_type": "execute_result"
    }
   ],
   "source": [
    "model.load_state_dict(torch.load(\"../models/lstm_30_checkpoint.pth\"))"
   ]
  },
  {
   "cell_type": "markdown",
   "metadata": {},
   "source": [
    "#### Evaluate on Test Set"
   ]
  },
  {
   "cell_type": "code",
   "execution_count": 7,
   "metadata": {},
   "outputs": [],
   "source": [
    "from test_utils import evaluate, evaluate_naive"
   ]
  },
  {
   "cell_type": "code",
   "execution_count": 8,
   "metadata": {},
   "outputs": [
    {
     "name": "stdout",
     "output_type": "stream",
     "text": [
      "Sample 1/30 classified as CORRECT\n",
      "Sample 2/30 classified as CORRECT\n",
      "Sample 3/30 classified as CORRECT\n",
      "Sample 4/30 classified as CORRECT\n",
      "Sample 5/30 classified as CORRECT\n",
      "Sample 6/30 classified as CORRECT\n",
      "Sample 7/30 classified as CORRECT\n",
      "Sample 8/30 classified as INCORRECT\n",
      "Sample 9/30 classified as CORRECT\n",
      "Sample 10/30 classified as CORRECT\n",
      "Sample 11/30 classified as CORRECT\n",
      "Sample 12/30 classified as CORRECT\n",
      "Sample 13/30 classified as CORRECT\n",
      "Sample 14/30 classified as CORRECT\n",
      "Sample 15/30 classified as CORRECT\n",
      "Sample 16/30 classified as CORRECT\n",
      "Sample 17/30 classified as CORRECT\n",
      "Sample 18/30 classified as CORRECT\n",
      "Sample 19/30 classified as CORRECT\n",
      "Sample 20/30 classified as CORRECT\n",
      "Sample 21/30 classified as CORRECT\n",
      "Sample 22/30 classified as CORRECT\n",
      "Sample 23/30 classified as CORRECT\n",
      "Sample 24/30 classified as CORRECT\n",
      "Sample 25/30 classified as CORRECT\n",
      "Sample 26/30 classified as CORRECT\n",
      "Sample 27/30 classified as CORRECT\n",
      "Sample 28/30 classified as CORRECT\n",
      "Sample 29/30 classified as CORRECT\n",
      "Sample 30/30 classified as CORRECT\n",
      "==================================================\n",
      "Accuracy of the model on 30 unseen music samples: 96.67%\n",
      "==================================================\n"
     ]
    },
    {
     "data": {
      "text/plain": [
       "0.9666666666666667"
      ]
     },
     "execution_count": 8,
     "metadata": {},
     "output_type": "execute_result"
    }
   ],
   "source": [
    "evaluate(model, X_test, Y_test, threshold=0.6, verbose=True)"
   ]
  },
  {
   "cell_type": "markdown",
   "metadata": {},
   "source": [
    "### Compare naive performances on training and test sets"
   ]
  },
  {
   "cell_type": "code",
   "execution_count": 13,
   "metadata": {},
   "outputs": [
    {
     "name": "stdout",
     "output_type": "stream",
     "text": [
      "Training data: X - torch.Size([18000, 5000]), Y - torch.Size([18000])\n"
     ]
    }
   ],
   "source": [
    "X_train = torch.from_numpy(np.load(\"../data/X_train.npy\")).long()\n",
    "Y_train = torch.from_numpy(np.load(\"../data/Y_train.npy\")).long()\n",
    "print(f\"Training data: X - {X_train.shape}, Y - {Y_train.shape}\")"
   ]
  },
  {
   "cell_type": "code",
   "execution_count": 15,
   "metadata": {},
   "outputs": [
    {
     "name": "stdout",
     "output_type": "stream",
     "text": [
      "Training Data:\n",
      "==================================================\n",
      "Accuracy on given data: 98.88%\n",
      "==================================================\n",
      "\n",
      "\n",
      "Test Data:\n",
      "==================================================\n",
      "Accuracy on given data: 85.85%\n",
      "==================================================\n"
     ]
    },
    {
     "data": {
      "text/plain": [
       "0.8585"
      ]
     },
     "execution_count": 15,
     "metadata": {},
     "output_type": "execute_result"
    }
   ],
   "source": [
    "# Check simple performance on train_set (individual random subsequence)\n",
    "print(\"Training Data:\")\n",
    "evaluate_naive(model, X_train, Y_train)\n",
    "print(\"\\n\\nTest Data:\")\n",
    "evaluate_naive(model, X_test, Y_test)"
   ]
  },
  {
   "cell_type": "markdown",
   "metadata": {},
   "source": [
    "### Demonstrate prediction function"
   ]
  },
  {
   "cell_type": "code",
   "execution_count": 16,
   "metadata": {},
   "outputs": [],
   "source": [
    "from test_utils import predict10"
   ]
  },
  {
   "cell_type": "code",
   "execution_count": 17,
   "metadata": {},
   "outputs": [
    {
     "data": {
      "text/plain": [
       "'Input music sample belongs to the Suraṭi raga'"
      ]
     },
     "execution_count": 17,
     "metadata": {},
     "output_type": "execute_result"
    }
   ],
   "source": [
    "predict10(model, X_test[0:200])"
   ]
  },
  {
   "cell_type": "markdown",
   "metadata": {},
   "source": [
    "### Comparison of model performance on the test set over epochs"
   ]
  },
  {
   "cell_type": "code",
   "execution_count": 20,
   "metadata": {},
   "outputs": [
    {
     "data": {
      "image/png": "[encoded data removed]",
      "text/plain": [
       "<Figure size 432x288 with 1 Axes>"
      ]
     },
     "metadata": {
      "needs_background": "light"
     },
     "output_type": "display_data"
    }
   ],
   "source": [
    "pfs = []\n",
    "for i in list(range(5, 31, 5)):\n",
    "    checkpoint = f\"../models/lstm_{i}_checkpoint.pth\"\n",
    "    model.load_state_dict(torch.load(checkpoint))\n",
    "    pfs.append(evaluate(model, X_test, Y_test))\n",
    "    \n",
    "# Plot the data\n",
    "plt.plot(np.arange(5,31,5), pfs)\n",
    "plt.title(\"Model performance on Testset vs Epoch for LSTM-based model\\n\")\n",
    "plt.xlabel(\"Epoch\")\n",
    "plt.ylabel(\"Accuracy\")\n",
    "# plt.savefig(\"plots/performance_over_epochs_plot.png\")\n",
    "plt.show()"
   ]
  },
  {
   "cell_type": "markdown",
   "metadata": {},
   "source": [
    "\n"
   ]
  },
  {
   "cell_type": "markdown",
   "metadata": {},
   "source": [
    "\n",
    " "
   ]
  },
  {
   "cell_type": "markdown",
   "metadata": {},
   "source": [
    "\n",
    "\n"
   ]
  },
  {
   "cell_type": "markdown",
   "metadata": {},
   "source": [
    "### Test GRU-based model performance"
   ]
  },
  {
   "cell_type": "markdown",
   "metadata": {},
   "source": [
    "#### Create model instance and load weights"
   ]
  },
  {
   "cell_type": "code",
   "execution_count": 21,
   "metadata": {},
   "outputs": [
    {
     "name": "stderr",
     "output_type": "stream",
     "text": [
      "/opt/anaconda3/envs/pipenv/lib/python3.7/site-packages/torch/nn/modules/rnn.py:50: UserWarning: dropout option adds dropout after all but last recurrent layer, so non-zero dropout expects num_layers greater than 1, but got dropout=0.3 and num_layers=1\n",
      "  \"num_layers={}\".format(dropout, num_layers))\n"
     ]
    }
   ],
   "source": [
    "from deepSRGM import DeepSRGM\n",
    "model = DeepSRGM(rnn='gru').to(device)"
   ]
  },
  {
   "cell_type": "code",
   "execution_count": 22,
   "metadata": {},
   "outputs": [
    {
     "data": {
      "text/plain": [
       "<All keys matched successfully>"
      ]
     },
     "execution_count": 22,
     "metadata": {},
     "output_type": "execute_result"
    }
   ],
   "source": [
    "model.load_state_dict(torch.load(\"../models/gru_30_checkpoint.pth\"))"
   ]
  },
  {
   "cell_type": "markdown",
   "metadata": {},
   "source": [
    "#### Evaluate on Test Set"
   ]
  },
  {
   "cell_type": "code",
   "execution_count": 23,
   "metadata": {},
   "outputs": [
    {
     "name": "stdout",
     "output_type": "stream",
     "text": [
      "Sample 1/30 classified as CORRECT\n",
      "Sample 2/30 classified as CORRECT\n",
      "Sample 3/30 classified as CORRECT\n",
      "Sample 4/30 classified as CORRECT\n",
      "Sample 5/30 classified as CORRECT\n",
      "Sample 6/30 classified as CORRECT\n",
      "Sample 7/30 classified as CORRECT\n",
      "Sample 8/30 classified as INCORRECT\n",
      "Sample 9/30 classified as CORRECT\n",
      "Sample 10/30 classified as CORRECT\n",
      "Sample 11/30 classified as CORRECT\n",
      "Sample 12/30 classified as CORRECT\n",
      "Sample 13/30 classified as CORRECT\n",
      "Sample 14/30 classified as CORRECT\n",
      "Sample 15/30 classified as CORRECT\n",
      "Sample 16/30 classified as CORRECT\n",
      "Sample 17/30 classified as CORRECT\n",
      "Sample 18/30 classified as CORRECT\n",
      "Sample 19/30 classified as CORRECT\n",
      "Sample 20/30 classified as CORRECT\n",
      "Sample 21/30 classified as CORRECT\n",
      "Sample 22/30 classified as CORRECT\n",
      "Sample 23/30 classified as CORRECT\n",
      "Sample 24/30 classified as CORRECT\n",
      "Sample 25/30 classified as CORRECT\n",
      "Sample 26/30 classified as CORRECT\n",
      "Sample 27/30 classified as CORRECT\n",
      "Sample 28/30 classified as CORRECT\n",
      "Sample 29/30 classified as CORRECT\n",
      "Sample 30/30 classified as CORRECT\n",
      "==================================================\n",
      "Accuracy of the model on 30 unseen music samples: 96.67%\n",
      "==================================================\n"
     ]
    },
    {
     "data": {
      "text/plain": [
       "0.9666666666666667"
      ]
     },
     "execution_count": 23,
     "metadata": {},
     "output_type": "execute_result"
    }
   ],
   "source": [
    "evaluate(model, X_test, Y_test, threshold=0.6, verbose=True)"
   ]
  },
  {
   "cell_type": "markdown",
   "metadata": {},
   "source": [
    "### Compare naive performances on training and test sets"
   ]
  },
  {
   "cell_type": "code",
   "execution_count": 24,
   "metadata": {},
   "outputs": [
    {
     "name": "stdout",
     "output_type": "stream",
     "text": [
      "Training Data:\n",
      "==================================================\n",
      "Accuracy on given data: 98.94%\n",
      "==================================================\n",
      "\n",
      "\n",
      "Test Data:\n",
      "==================================================\n",
      "Accuracy on given data: 82.60%\n",
      "==================================================\n"
     ]
    },
    {
     "data": {
      "text/plain": [
       "0.826"
      ]
     },
     "execution_count": 24,
     "metadata": {},
     "output_type": "execute_result"
    }
   ],
   "source": [
    "# Check simple performance on train_set (individual random subsequence)\n",
    "print(\"Training Data:\")\n",
    "evaluate_naive(model, X_train, Y_train)\n",
    "print(\"\\n\\nTest Data:\")\n",
    "evaluate_naive(model, X_test, Y_test)"
   ]
  },
  {
   "cell_type": "markdown",
   "metadata": {},
   "source": [
    "### Comparison of model performance on the test set over epochs"
   ]
  },
  {
   "cell_type": "code",
   "execution_count": 27,
   "metadata": {},
   "outputs": [
    {
     "data": {
      "image/png": "[encoded data removed]",
      "text/plain": [
       "<Figure size 432x288 with 1 Axes>"
      ]
     },
     "metadata": {
      "needs_background": "light"
     },
     "output_type": "display_data"
    }
   ],
   "source": [
    "pfs = []\n",
    "for i in list(range(5, 31, 5)):\n",
    "    checkpoint = f\"../models/gru_{i}_checkpoint.pth\"\n",
    "    model.load_state_dict(torch.load(checkpoint))\n",
    "    pfs.append(evaluate(model, X_test, Y_test))\n",
    "    \n",
    "# Plot the data\n",
    "plt.plot(np.arange(5,31,5), pfs)\n",
    "plt.title(\"Model performance on Testset vs Epoch for GRU-based model\\n\")\n",
    "plt.xlabel(\"Epoch\")\n",
    "plt.ylabel(\"Accuracy\")\n",
    "# plt.savefig(\"plots/performance_over_epochs_plot.png\")\n",
    "plt.show()"
   ]
  }
 ],
 "metadata": {
  "accelerator": "GPU",
  "colab": {
   "collapsed_sections": [],
   "name": "deepSRGM.ipynb",
   "provenance": []
  },
  "kernelspec": {
   "display_name": "Python 3",
   "language": "python",
   "name": "python3"
  },
  "language_info": {
   "codemirror_mode": {
    "name": "ipython",
    "version": 3
   },
   "file_extension": ".py",
   "mimetype": "text/x-python",
   "name": "python",
   "nbconvert_exporter": "python",
   "pygments_lexer": "ipython3",
   "version": "3.7.7"
  }
 },
 "nbformat": 4,
 "nbformat_minor": 1
}
